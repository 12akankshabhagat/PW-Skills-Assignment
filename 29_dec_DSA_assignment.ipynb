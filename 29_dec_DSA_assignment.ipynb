{
 "cells": [
  {
   "cell_type": "markdown",
   "id": "6d36419f-a23c-4af5-9c98-0f5123eaf873",
   "metadata": {},
   "source": [
    "# DSA Assignment Questions"
   ]
  },
  {
   "cell_type": "code",
   "execution_count": null,
   "id": "4ceccee5-5974-4b35-9dd6-b6b1c46de7da",
   "metadata": {},
   "outputs": [],
   "source": []
  },
  {
   "cell_type": "markdown",
   "id": "e3c06b59-ec13-4505-81fa-acbea2219179",
   "metadata": {},
   "source": [
    "###  Problem 1: Reverse a singly linked list.\n",
    "### Input: 1 -> 2 -> 3 -> 4 -> 5\n",
    "### Output: 5 -> 4 -> 3 -> 2 -> 1"
   ]
  },
  {
   "cell_type": "code",
   "execution_count": 1,
   "id": "de7e2d8b-6d76-4457-a555-eddecf7417f4",
   "metadata": {},
   "outputs": [
    {
     "name": "stdout",
     "output_type": "stream",
     "text": [
      "Original list:\n",
      "1 -> 2 -> 3 -> 4 -> 5\n",
      "Reversed list:\n",
      "5 -> 4 -> 3 -> 2 -> 1\n"
     ]
    }
   ],
   "source": [
    "class ListNode:\n",
    "    def __init__(self, value=0, next=None):\n",
    "        self.value = value\n",
    "        self.next = next\n",
    "\n",
    "def reverse_linked_list(head):\n",
    "    prev, current = None, head\n",
    "    while current:\n",
    "        current.next, prev, current = prev, current, current.next\n",
    "    return prev\n",
    "\n",
    "# Helper function to create a linked list from a list of values\n",
    "def create_linked_list(values):\n",
    "    if not values:\n",
    "        return None\n",
    "    head = ListNode(values[0])\n",
    "    current = head\n",
    "    for value in values[1:]:\n",
    "        current.next = ListNode(value)\n",
    "        current = current.next\n",
    "    return head\n",
    "\n",
    "# Helper function to print a linked list\n",
    "def print_linked_list(head):\n",
    "    current = head\n",
    "    while current:\n",
    "        print(current.value, end=\" -> \" if current.next else \"\\n\")\n",
    "        current = current.next\n",
    "\n",
    "values = [1, 2, 3, 4, 5]\n",
    "head = create_linked_list(values)\n",
    "print(\"Original list:\")\n",
    "print_linked_list(head)\n",
    "\n",
    "reversed_head = reverse_linked_list(head)\n",
    "print(\"Reversed list:\")\n",
    "print_linked_list(reversed_head)"
   ]
  },
  {
   "cell_type": "code",
   "execution_count": null,
   "id": "4f583578-f988-4979-b1a8-25de28f9ca2f",
   "metadata": {},
   "outputs": [],
   "source": []
  },
  {
   "cell_type": "markdown",
   "id": "8b6753c4-9441-4eb6-8d70-329f2bbb7e6e",
   "metadata": {},
   "source": [
    "### Problem 2: Merge two sorted linked lists into one sorted linked list.\n",
    "### Input: List 1: 1 -> 3 -> 5, List 2: 2 -> 4 -> 6\n",
    "### Output: 1 -> 2 -> 3 -> 4 -> 5 -> 6"
   ]
  },
  {
   "cell_type": "code",
   "execution_count": 2,
   "id": "1396f18c-e497-445e-b6c4-8afdc9be47aa",
   "metadata": {},
   "outputs": [
    {
     "name": "stdout",
     "output_type": "stream",
     "text": [
      "List 1:\n",
      "1 -> 3 -> 5\n",
      "List 2:\n",
      "2 -> 4 -> 6\n",
      "Merged list:\n",
      "1 -> 2 -> 3 -> 4 -> 5 -> 6\n"
     ]
    }
   ],
   "source": [
    "class ListNode:\n",
    "    def __init__(self, value=0, next=None):\n",
    "        self.value = value\n",
    "        self.next = next\n",
    "\n",
    "def merge_two_sorted_lists(l1, l2):\n",
    "    dummy = ListNode()\n",
    "    tail = dummy\n",
    "    \n",
    "    while l1 and l2:\n",
    "        if l1.value < l2.value:\n",
    "            tail.next, l1 = l1, l1.next\n",
    "        else:\n",
    "            tail.next, l2 = l2, l2.next\n",
    "        tail = tail.next\n",
    "    \n",
    "    tail.next = l1 if l1 else l2\n",
    "    return dummy.next\n",
    "# Helper function to create a linked list from a list of values\n",
    "def create_linked_list(values):\n",
    "    head = ListNode(values[0])\n",
    "    current = head\n",
    "    for value in values[1:]:\n",
    "        current.next = ListNode(value)\n",
    "        current = current.next\n",
    "    return head\n",
    "# Helper function to print a linked list\n",
    "def print_linked_list(head):\n",
    "    current = head\n",
    "    while current:\n",
    "        print(current.value, end=\" -> \" if current.next else \"\\n\")\n",
    "        current = current.next\n",
    "        \n",
    "values1 = [1, 3, 5]\n",
    "values2 = [2, 4, 6]\n",
    "l1 = create_linked_list(values1)\n",
    "l2 = create_linked_list(values2)\n",
    "print(\"List 1:\")\n",
    "print_linked_list(l1)\n",
    "print(\"List 2:\")\n",
    "print_linked_list(l2)\n",
    "\n",
    "merged_head = merge_two_sorted_lists(l1, l2)\n",
    "print(\"Merged list:\")\n",
    "print_linked_list(merged_head)"
   ]
  },
  {
   "cell_type": "code",
   "execution_count": null,
   "id": "78104535-b224-4f63-9d3f-e7854667543d",
   "metadata": {},
   "outputs": [],
   "source": []
  },
  {
   "cell_type": "markdown",
   "id": "572ada1f-83f3-449b-a08d-f363ba455dc8",
   "metadata": {},
   "source": [
    "### Problem 3: Remove the nth node from the end of a linked list.\n",
    "### Input: 1 -> 2 -> 3 -> 4 -> 5, n = 2\n",
    "### Output: 1 -> 2 -> 3 -> 5"
   ]
  },
  {
   "cell_type": "code",
   "execution_count": 3,
   "id": "53ed8896-910b-4c9b-879d-ef34c85b3962",
   "metadata": {},
   "outputs": [
    {
     "name": "stdout",
     "output_type": "stream",
     "text": [
      "Original list:\n",
      "1 -> 2 -> 3 -> 4 -> 5\n",
      "List after removing the nth node from the end:\n",
      "1 -> 2 -> 3 -> 5\n"
     ]
    }
   ],
   "source": [
    "class ListNode:\n",
    "    def __init__(self, value=0, next=None):\n",
    "        self.value = value\n",
    "        self.next = next\n",
    "\n",
    "def remove_nth_from_end(head, n):\n",
    "    dummy = ListNode(0, head)\n",
    "    fast = slow = dummy\n",
    "    for _ in range(n + 1):\n",
    "        fast = fast.next\n",
    "    while fast:\n",
    "        fast, slow = fast.next, slow.next\n",
    "    slow.next = slow.next.next\n",
    "    return dummy.next\n",
    "\n",
    "# Helper function to create a linked list from a list of values\n",
    "def create_linked_list(values):\n",
    "    head = ListNode(values[0])\n",
    "    current = head\n",
    "    for value in values[1:]:\n",
    "        current.next = ListNode(value)\n",
    "        current = current.next\n",
    "    return head\n",
    "\n",
    "# Helper function to print a linked list\n",
    "def print_linked_list(head):\n",
    "    current = head\n",
    "    while current:\n",
    "        print(current.value, end=\" -> \" if current.next else \"\\n\")\n",
    "        current = current.next\n",
    "\n",
    "# Example usage:\n",
    "values = [1, 2, 3, 4, 5]\n",
    "n = 2\n",
    "head = create_linked_list(values)\n",
    "print(\"Original list:\")\n",
    "print_linked_list(head)\n",
    "\n",
    "head = remove_nth_from_end(head, n)\n",
    "print(\"List after removing the nth node from the end:\")\n",
    "print_linked_list(head)"
   ]
  },
  {
   "cell_type": "code",
   "execution_count": null,
   "id": "4fe281f4-f0d7-46d8-afcc-015f81337968",
   "metadata": {},
   "outputs": [],
   "source": []
  },
  {
   "cell_type": "markdown",
   "id": "91891ded-bf5f-48de-8190-5eebda8aa548",
   "metadata": {},
   "source": [
    "### Problem 4: Find the intersection point of two linked lists.\n",
    "### Input: List 1: 1 -> 2 -> 3 -> 4, List 2: 9 -> 8 -> 3 -> 4\n",
    "### Output: Node with value 3"
   ]
  },
  {
   "cell_type": "code",
   "execution_count": 4,
   "id": "bb1d7220-9260-4504-ac70-2992773d038a",
   "metadata": {},
   "outputs": [
    {
     "name": "stdout",
     "output_type": "stream",
     "text": [
      "List 1:\n",
      "1 -> 2 -> 3 -> 4\n",
      "List 2:\n",
      "9 -> 8 -> 3 -> 4\n",
      "Intersection point of the two linked lists is: 3\n"
     ]
    }
   ],
   "source": [
    "class Node:\n",
    "    def __init__(self, data=0, next=None):\n",
    "        self.data = data\n",
    "        self.next = next\n",
    "    def getdata(self):\n",
    "        return self.data\n",
    "    def getnext(self):\n",
    "        return self.next\n",
    "    def setnext(self, next_node):\n",
    "        self.next = next_node\n",
    "\n",
    "# Define the traverse function to print the linked list\n",
    "def traverse(head):\n",
    "    current = head\n",
    "    while current:\n",
    "        print(current.getdata(), end=\" -> \" if current.getnext() else \"\\n\")\n",
    "        current = current.getnext()\n",
    "\n",
    "# Create List-1\n",
    "head11 = Node(1)\n",
    "node2 = Node(2)\n",
    "node3 = Node(3)\n",
    "node4 = Node(4)\n",
    "\n",
    "# Create Linkage of nodes for List-1\n",
    "head11.setnext(node2)\n",
    "node2.setnext(node3)\n",
    "node3.setnext(node4)\n",
    "\n",
    "# Create List-2\n",
    "head21 = Node(9)\n",
    "node8 = Node(8)\n",
    "\n",
    "# Create Linkage of nodes for List-2\n",
    "head21.setnext(node8)\n",
    "node8.setnext(node3)  # node3 and node4 are shared with List-1\n",
    "\n",
    "# Traverse both lists\n",
    "print(\"List 1:\")\n",
    "traverse(head11)\n",
    "print(\"List 2:\")\n",
    "traverse(head21)\n",
    "\n",
    "# Function to find the intersection point of two linked lists\n",
    "def IntersectPoint(head11, head21):\n",
    "    # Get lengths of both lists\n",
    "    def get_length(head):\n",
    "        length = 0\n",
    "        current = head\n",
    "        while current:\n",
    "            length += 1\n",
    "            current = current.getnext()\n",
    "        return length\n",
    "\n",
    "    len1 = get_length(head11)\n",
    "    len2 = get_length(head21)\n",
    "\n",
    "    # Align the start of both lists\n",
    "    temp1, temp2 = head11, head21\n",
    "    if len1 > len2:\n",
    "        for _ in range(len1 - len2):\n",
    "            temp1 = temp1.getnext()\n",
    "    elif len2 > len1:\n",
    "        for _ in range(len2 - len1):\n",
    "            temp2 = temp2.getnext()\n",
    "\n",
    "    # Traverse both lists to find the intersection point\n",
    "    while temp1 and temp2:\n",
    "        if temp1 == temp2:\n",
    "            return temp1.getdata()\n",
    "        temp1 = temp1.getnext()\n",
    "        temp2 = temp2.getnext()\n",
    "    return None\n",
    "print(\"Intersection point of the two linked lists is:\", IntersectPoint(head11, head21))"
   ]
  },
  {
   "cell_type": "code",
   "execution_count": null,
   "id": "111a8b40-20cb-48c7-921d-2d0977f44bce",
   "metadata": {},
   "outputs": [],
   "source": []
  },
  {
   "cell_type": "markdown",
   "id": "e050d1e0-7b07-4dbe-b9c5-ee6c27f78e9d",
   "metadata": {},
   "source": [
    "### Problem 5: Remove duplicates from a sorted linked list.\n",
    "### Input: 1 -> 1 -> 2 -> 3 -> 3\n",
    "### Output: 1 -> 2 -> 3"
   ]
  },
  {
   "cell_type": "code",
   "execution_count": 5,
   "id": "b04f8df7-753c-4e81-8b48-e2779ddc1683",
   "metadata": {},
   "outputs": [
    {
     "name": "stdout",
     "output_type": "stream",
     "text": [
      "Original linkedlist:\n",
      "\n",
      "1 -> 2 -> 3 -> 3\n",
      "\n",
      "After removing duplicates:\n",
      "\n",
      "1 -> 2 -> 3\n"
     ]
    }
   ],
   "source": [
    "# creating the nodes\n",
    "head = Node(1)\n",
    "node2 = Node(2)\n",
    "node3 = Node(3)\n",
    "node4 = Node(3)\n",
    "\n",
    "#creating linkage\n",
    "head.setnext(node2)\n",
    "node2.setnext(node3)\n",
    "node3.setnext(node4)\n",
    "\n",
    "def remove_duplicates(head):\n",
    "    temp = head\n",
    "    while(temp and temp.getnext()):\n",
    "        if temp.getdata() == temp.getnext().getdata():\n",
    "            temp.setnext(temp.getnext().getnext())\n",
    "        else:\n",
    "            temp = temp.getnext()\n",
    "    \n",
    "print(\"Original linkedlist:\\n\")\n",
    "traverse(head)\n",
    "remove_duplicates(head)\n",
    "print(\"\\nAfter removing duplicates:\\n\")\n",
    "traverse(head)"
   ]
  },
  {
   "cell_type": "code",
   "execution_count": null,
   "id": "4cb6b767-2808-449a-8fba-2b07d6295801",
   "metadata": {},
   "outputs": [],
   "source": []
  },
  {
   "cell_type": "markdown",
   "id": "2561fa82-ed9e-4e70-9e09-2b4b99616b2e",
   "metadata": {},
   "source": [
    "### Problem 6: Add two numbers represented by linked lists (where each node contains a single digit).\n",
    "### Input: List 1: 2 -> 4 -> 3, List 2: 5 -> 6 -> 4 (represents 342 + 465)\n",
    "### Output: 7 -> 0 -> 8 (represents 807)"
   ]
  },
  {
   "cell_type": "code",
   "execution_count": 6,
   "id": "78373b01-330b-4056-98bc-dc9aa12091e6",
   "metadata": {},
   "outputs": [
    {
     "name": "stdout",
     "output_type": "stream",
     "text": [
      "List 1:\n",
      "2 -> 4 -> 3\n",
      "List 2:\n",
      "5 -> 6 -> 4\n",
      "Sum of the two numbers:\n",
      "7 -> 0 -> 8\n"
     ]
    }
   ],
   "source": [
    "class ListNode:\n",
    "    def __init__(self, value=0, next=None):\n",
    "        self.value = value\n",
    "        self.next = next\n",
    "\n",
    "def add_two_numbers(l1, l2):\n",
    "    dummy = ListNode()\n",
    "    current = dummy\n",
    "    carry = 0\n",
    "    \n",
    "    while l1 or l2 or carry:\n",
    "        sum_val = carry\n",
    "        if l1:\n",
    "            sum_val += l1.value\n",
    "            l1 = l1.next\n",
    "        if l2:\n",
    "            sum_val += l2.value\n",
    "            l2 = l2.next\n",
    "        \n",
    "        carry = sum_val // 10\n",
    "        current.next = ListNode(sum_val % 10)\n",
    "        current = current.next\n",
    "    \n",
    "    return dummy.next\n",
    "\n",
    "# Helper function to create a linked list from a list of values\n",
    "def create_linked_list(values):\n",
    "    head = ListNode(values[0])\n",
    "    current = head\n",
    "    for value in values[1:]:\n",
    "        current.next = ListNode(value)\n",
    "        current = current.next\n",
    "    return head\n",
    "\n",
    "# Helper function to print a linked list\n",
    "def print_linked_list(head):\n",
    "    current = head\n",
    "    while current:\n",
    "        print(current.value, end=\" -> \" if current.next else \"\\n\")\n",
    "        current = current.next\n",
    "values1 = [2, 4, 3]\n",
    "values2 = [5, 6, 4]\n",
    "l1 = create_linked_list(values1)\n",
    "l2 = create_linked_list(values2)\n",
    "\n",
    "print(\"List 1:\")\n",
    "print_linked_list(l1)\n",
    "print(\"List 2:\")\n",
    "print_linked_list(l2)\n",
    "result_head = add_two_numbers(l1, l2)\n",
    "print(\"Sum of the two numbers:\")\n",
    "print_linked_list(result_head)"
   ]
  },
  {
   "cell_type": "code",
   "execution_count": null,
   "id": "c0dda6cf-a2b4-4ece-8721-5bfeb6a65b3a",
   "metadata": {},
   "outputs": [],
   "source": []
  },
  {
   "cell_type": "markdown",
   "id": "e20cc242-4df9-4393-960b-91550e8b0d80",
   "metadata": {},
   "source": [
    "### Problem 7: Swap nodes in pairs in a linked list.\n",
    "### Input: 1 -> 2 -> 3 -> 4\n",
    "### Output: 2 -> 1 -> 4 -> 3"
   ]
  },
  {
   "cell_type": "code",
   "execution_count": 7,
   "id": "006cfd32-aaff-45de-98ea-c3b3617e8248",
   "metadata": {},
   "outputs": [
    {
     "name": "stdout",
     "output_type": "stream",
     "text": [
      "Original list:\n",
      "1 -> 2 -> 3 -> 4\n",
      "After swapping:\n",
      "2 -> 1 -> 4 -> 3\n"
     ]
    }
   ],
   "source": [
    "# creating the nodes\n",
    "head = Node(1)\n",
    "node2 = Node(2)\n",
    "node3 = Node(3)\n",
    "node4 = Node(4)\n",
    "\n",
    "# linking the nodes/ creating the linked list\n",
    "head.setnext(node2)\n",
    "node2.setnext(node3)\n",
    "node3.setnext(node4)\n",
    "\n",
    "def swap_nodes(head):\n",
    "    prev = dummy_node = Node()\n",
    "    while(head and head.getnext()):\n",
    "        firstnode = head\n",
    "        secondnode = head.getnext()\n",
    "#swapping the nodes\n",
    "        prev.setnext(secondnode)\n",
    "        firstnode.setnext(secondnode.getnext())\n",
    "        secondnode.setnext(firstnode)\n",
    "#moving the pointers\n",
    "        prev = firstnode\n",
    "        head = firstnode.getnext()\n",
    "    return dummy_node.getnext()\n",
    "\n",
    "print(\"Original list:\")\n",
    "traverse(head)\n",
    "new_node = swap_nodes(head)\n",
    "print(\"After swapping:\")\n",
    "traverse(new_node)"
   ]
  },
  {
   "cell_type": "code",
   "execution_count": null,
   "id": "ccef15ad-4abe-4aa9-8d96-01bfb214ed51",
   "metadata": {},
   "outputs": [],
   "source": []
  },
  {
   "cell_type": "markdown",
   "id": "704a19ea-ef98-4099-beed-3900f28ef975",
   "metadata": {},
   "source": [
    "### Problem 8: Reverse nodes in a linked list in groups of k.\n",
    "### Input: 1 -> 2 -> 3 -> 4 -> 5, k = 3\n",
    "### Output: 3 -> 2 -> 1 -> 4 -> 5"
   ]
  },
  {
   "cell_type": "code",
   "execution_count": 8,
   "id": "1128a48c-fe34-4564-bbca-0ac3170d6438",
   "metadata": {},
   "outputs": [
    {
     "name": "stdout",
     "output_type": "stream",
     "text": [
      "Original Linked list:\n",
      "1 -> 2 -> 3 -> 4 -> 5\n",
      "Output:\n",
      "3 -> 2 -> 1 -> 4 -> 5\n"
     ]
    }
   ],
   "source": [
    "def reverse_k_group(head, k):\n",
    "    if not head or k == 1:\n",
    "        return head\n",
    "    dummy = Node(0)\n",
    "    dummy.setnext(head)\n",
    "    prev_group_end = dummy\n",
    "\n",
    "    while prev_group_end:\n",
    "        group_start = prev_group_end.getnext()\n",
    "        group_end = group_start\n",
    "        for _ in range(k - 1):\n",
    "            group_end = group_end.getnext()\n",
    "            if not group_end:\n",
    "                return dummy.getnext()\n",
    "\n",
    "        next_group_start = group_end.getnext()\n",
    "        group_end.setnext(None)\n",
    "\n",
    "        # Reverse the current group\n",
    "        prev = None\n",
    "        current = group_start\n",
    "        while current:\n",
    "            next_node = current.getnext()\n",
    "            current.setnext(prev)\n",
    "            prev = current\n",
    "            current = next_node\n",
    "\n",
    "        # Connect the reversed group back to the main list\n",
    "        prev_group_end.setnext(group_end)\n",
    "        group_start.setnext(next_group_start)\n",
    "\n",
    "        # Update prev_group_end for the next iteration\n",
    "        prev_group_end = group_start\n",
    "\n",
    "    return dummy.getnext()\n",
    "\n",
    "# creating the nodes\n",
    "head = Node(1)\n",
    "node2 = Node(2)\n",
    "node3 = Node(3)\n",
    "node4 = Node(4)\n",
    "node5 = Node(5)\n",
    "\n",
    "# linking the nodes/ creating the linked list\n",
    "head.setnext(node2)\n",
    "node2.setnext(node3)\n",
    "node3.setnext(node4)\n",
    "node4.setnext(node5)\n",
    "\n",
    "print(\"Original Linked list:\")\n",
    "traverse(head)\n",
    "new_head = reverse_k_group(head,3)\n",
    "print(\"Output:\")\n",
    "traverse(new_head)"
   ]
  },
  {
   "cell_type": "code",
   "execution_count": null,
   "id": "1e1fe130-01d4-4372-b90a-0b613f91a71c",
   "metadata": {},
   "outputs": [],
   "source": []
  },
  {
   "cell_type": "markdown",
   "id": "b20e56ea-e942-49f6-985e-c55c446f6bf2",
   "metadata": {},
   "source": [
    "### Problem 9: Determine if a linked list is a palindrome.\n",
    "### Input: 1 -> 2 -> 2 -> 1\n",
    "### Output: True"
   ]
  },
  {
   "cell_type": "code",
   "execution_count": 9,
   "id": "0fa2600d-52f9-4c02-ba4f-c36c73e4701f",
   "metadata": {},
   "outputs": [
    {
     "name": "stdout",
     "output_type": "stream",
     "text": [
      "Is the list a palindrome? True\n"
     ]
    }
   ],
   "source": [
    "class ListNode:\n",
    "    def __init__(self, value=0, next=None):\n",
    "        self.value = value\n",
    "        self.next = next\n",
    "\n",
    "def is_palindrome(head):\n",
    "    values = []\n",
    "    current = head\n",
    "    while current:\n",
    "        values.append(current.value)\n",
    "        current = current.next\n",
    "    return values == values[::-1]\n",
    "\n",
    "# Helper function to create a linked list from a list of values\n",
    "def create_linked_list(values):\n",
    "    head = ListNode(values[0])\n",
    "    current = head\n",
    "    for value in values[1:]:\n",
    "        current.next = ListNode(value)\n",
    "        current = current.next\n",
    "    return head\n",
    "\n",
    "# Example usage:\n",
    "values = [1, 2, 2, 1]\n",
    "head = create_linked_list(values)\n",
    "print(\"Is the list a palindrome?\", is_palindrome(head))"
   ]
  },
  {
   "cell_type": "code",
   "execution_count": null,
   "id": "bb478e9e-f94b-49cb-bc8c-aa16944a7961",
   "metadata": {},
   "outputs": [],
   "source": []
  },
  {
   "cell_type": "markdown",
   "id": "a26c092a-bc37-4565-8b41-1b3b109b9c5f",
   "metadata": {},
   "source": [
    "### Problem 10: Rotate a linked list to the right by k places.\n",
    "### Input: 1 -> 2 -> 3 -> 4 -> 5, k = 2\n",
    "### Output: 4 -> 5 -> 1 -> 2 -> 3"
   ]
  },
  {
   "cell_type": "code",
   "execution_count": 10,
   "id": "4c1f1017-7445-47ea-a7ec-f5d7bcaeacec",
   "metadata": {},
   "outputs": [
    {
     "name": "stdout",
     "output_type": "stream",
     "text": [
      "Original list:\n",
      "1 -> 2 -> 3 -> 4 -> 5\n",
      "List after rotating right by 2 places:\n",
      "4 -> 5 -> 1 -> 2 -> 3\n"
     ]
    }
   ],
   "source": [
    "class ListNode:\n",
    "    def __init__(self, value=0, next=None):\n",
    "        self.value = value\n",
    "        self.next = next\n",
    "def rotate_right(head, k):\n",
    "    # Edge case: empty list\n",
    "    if not head:\n",
    "        return None\n",
    "# Calculate the length of the linked list\n",
    "    length = 1\n",
    "    tail = head\n",
    "    while tail.next:\n",
    "        tail = tail.next\n",
    "        length += 1\n",
    "# Adjust k if it's larger than the length\n",
    "    k = k % length\n",
    "    if k == 0:\n",
    "        return head\n",
    "# Find the new tail (length - k)th node\n",
    "    new_tail = head\n",
    "    for _ in range(length - k - 1):\n",
    "        new_tail = new_tail.next\n",
    "# Break the list at the new tail\n",
    "    new_head = new_tail.next\n",
    "    new_tail.next = None\n",
    "# Connect the original tail to the original head\n",
    "    tail.next = head\n",
    "    return new_head\n",
    "\n",
    "# Helper function to create a linked list from a list of values\n",
    "def create_linked_list(values):\n",
    "    head = ListNode(values[0])\n",
    "    current = head\n",
    "    for value in values[1:]:\n",
    "        current.next = ListNode(value)\n",
    "        current = current.next\n",
    "    return head\n",
    "\n",
    "# Helper function to print a linked list\n",
    "def print_linked_list(head):\n",
    "    current = head\n",
    "    while current:\n",
    "        print(current.value, end=\" -> \" if current.next else \"\\n\")\n",
    "        current = current.next\n",
    "\n",
    "values = [1, 2, 3, 4, 5]\n",
    "k = 2\n",
    "head = create_linked_list(values)\n",
    "print(\"Original list:\")\n",
    "print_linked_list(head)\n",
    "head = rotate_right(head, k)\n",
    "print(f\"List after rotating right by {k} places:\")\n",
    "print_linked_list(head)"
   ]
  },
  {
   "cell_type": "code",
   "execution_count": null,
   "id": "cf582f41-5603-459e-80b0-48d604c9f1b7",
   "metadata": {},
   "outputs": [],
   "source": []
  },
  {
   "cell_type": "markdown",
   "id": "f09e4f9b-344e-48e4-8941-31693909d72d",
   "metadata": {},
   "source": [
    "### Problem 11: Flatten a multilevel doubly linked list.\n",
    "### Input: 1 <-> 2 <-> 3 <-> 7 <-> 8 <-> 11 -> 12, 4 <-> 5 -> 9 -> 10, 6 -> 13\n",
    "### Output: 1 <-> 2 <-> 3 <-> 4 <-> 5 <-> 6 <-> 7 <-> 8 <-> 9 <-> 10 <-> 11 <-> 12 <-> 13"
   ]
  },
  {
   "cell_type": "code",
   "execution_count": 11,
   "id": "0cbf091d-e938-4376-a4fd-836dab596def",
   "metadata": {},
   "outputs": [
    {
     "name": "stdout",
     "output_type": "stream",
     "text": [
      "Original multilevel doubly linked list:\n",
      "1 <-> 2 <-> 3 <-> 7 <-> 8 <-> 11 <-> 12\n",
      "\n",
      "Flattened doubly linked list:\n",
      "1 <-> 2 <-> 3 <-> 4 <-> 5 <-> 9 <-> 10 <-> 7 <-> 8 <-> 6 <-> 13 <-> 11 <-> 12\n"
     ]
    }
   ],
   "source": [
    "class Node:\n",
    "    def __init__(self, value=None, prev=None, next=None, child=None):\n",
    "        self.value = value\n",
    "        self.prev = prev\n",
    "        self.next = next\n",
    "        self.child = child\n",
    "\n",
    "def flatten(head):\n",
    "    if not head:\n",
    "        return None\n",
    "    \n",
    "    current = head\n",
    "    while current:\n",
    "        if current.child:\n",
    "            # Save the next node in the main list\n",
    "            next_node = current.next\n",
    "            \n",
    "            # Connect current node to the child and flatten child list\n",
    "            current.next = flatten(current.child)\n",
    "            current.next.prev = current\n",
    "            current.child = None\n",
    "            \n",
    "            # Move to the end of the flattened child list\n",
    "            temp = current.next\n",
    "            while temp.next:\n",
    "                temp = temp.next\n",
    "            \n",
    "            # Connect end of flattened child list to saved next node\n",
    "            temp.next = next_node\n",
    "            if next_node:\n",
    "                next_node.prev = temp\n",
    "        \n",
    "        # Move to the next node in the main list\n",
    "        current = current.next\n",
    "    \n",
    "    return head\n",
    "\n",
    "# Helper function to print a doubly linked list\n",
    "def print_doubly_linked_list(head):\n",
    "    current = head\n",
    "    while current:\n",
    "        print(current.value, end=\" <-> \" if current.next else \"\\n\")\n",
    "        current = current.next\n",
    "\n",
    "# Example usage:\n",
    "# Creating the input doubly linked list with children\n",
    "head = Node(1)\n",
    "node2 = Node(2)\n",
    "node3 = Node(3)\n",
    "node4 = Node(4)\n",
    "node5 = Node(5)\n",
    "node6 = Node(6)\n",
    "node7 = Node(7)\n",
    "node8 = Node(8)\n",
    "node9 = Node(9)\n",
    "node10 = Node(10)\n",
    "node11 = Node(11)\n",
    "node12 = Node(12)\n",
    "node13 = Node(13)\n",
    "\n",
    "head.next = node2\n",
    "node2.prev = head\n",
    "node2.next = node3\n",
    "node3.prev = node2\n",
    "node3.next = node7\n",
    "node7.prev = node3\n",
    "node7.next = node8\n",
    "node8.prev = node7\n",
    "node8.next = node11\n",
    "node11.prev = node8\n",
    "node11.next = node12\n",
    "node12.prev = node11\n",
    "\n",
    "node3.child = node4\n",
    "node4.next = node5\n",
    "node5.prev = node4\n",
    "node5.next = node9\n",
    "node9.prev = node5\n",
    "node9.next = node10\n",
    "node10.prev = node9\n",
    "\n",
    "node8.child = node6\n",
    "node6.next = node13\n",
    "node13.prev = node6\n",
    "print(\"Original multilevel doubly linked list:\")\n",
    "print_doubly_linked_list(head)\n",
    "head = flatten(head)\n",
    "print(\"\\nFlattened doubly linked list:\")\n",
    "print_doubly_linked_list(head)"
   ]
  },
  {
   "cell_type": "code",
   "execution_count": null,
   "id": "007f103a-8822-4c1e-89ab-9f330a263e1e",
   "metadata": {},
   "outputs": [],
   "source": []
  },
  {
   "cell_type": "markdown",
   "id": "85e6c289-3a00-4891-a2dc-9482befed9bd",
   "metadata": {},
   "source": [
    "### Problem 12: Rearrange a linked list such that all even positioned nodes are placed at the end.\n",
    "### Input: 1 -> 2 -> 3 -> 4 -> 5\n",
    "### Output: 1 -> 3 -> 5 -> 2 -> 4"
   ]
  },
  {
   "cell_type": "code",
   "execution_count": 13,
   "id": "44a59ad6-b75e-4ec0-ab9c-62ccb3f90724",
   "metadata": {},
   "outputs": [
    {
     "name": "stdout",
     "output_type": "stream",
     "text": [
      "Original linked list:\n",
      "1 -> 2 -> 3 -> 4 -> 5\n",
      "\n",
      "Linked list after rearranging:\n",
      "1 -> 3 -> 5 -> 2 -> 4\n"
     ]
    }
   ],
   "source": [
    "class ListNode:\n",
    "    def __init__(self, value=0, next=None):\n",
    "        self.value = value\n",
    "        self.next = next\n",
    "\n",
    "def rearrange_linked_list(head):\n",
    "    if not head or not head.next:\n",
    "        return head\n",
    "# Separate odd and even positioned nodes\n",
    "    odd_head = head\n",
    "    even_head = head.next\n",
    "    odd_tail = odd_head\n",
    "    even_tail = even_head\n",
    "    current = head.next.next\n",
    "    is_odd = True\n",
    "    \n",
    "    while current:\n",
    "        if is_odd:\n",
    "            odd_tail.next = current\n",
    "            odd_tail = odd_tail.next\n",
    "        else:\n",
    "            even_tail.next = current\n",
    "            even_tail = even_tail.next\n",
    "        \n",
    "        current = current.next\n",
    "        is_odd = not is_odd\n",
    "# Terminate the end of even_tail to avoid cycle in the list\n",
    "    even_tail.next = None\n",
    "# Merge odd_head and even_head\n",
    "    odd_tail.next = even_head\n",
    "    return odd_head\n",
    "# Helper function to create a linked list from a list of values\n",
    "def create_linked_list(values):\n",
    "    head = ListNode(values[0])\n",
    "    current = head\n",
    "    for value in values[1:]:\n",
    "        current.next = ListNode(value)\n",
    "        current = current.next\n",
    "    return head\n",
    "\n",
    "# Helper function to print a linked list\n",
    "def print_linked_list(head):\n",
    "    current = head\n",
    "    while current:\n",
    "        print(current.value, end=\" -> \" if current.next else \"\\n\")\n",
    "        current = current.next\n",
    "\n",
    "values = [1, 2, 3, 4, 5]\n",
    "head = create_linked_list(values)\n",
    "print(\"Original linked list:\")\n",
    "print_linked_list(head)\n",
    "head = rearrange_linked_list(head)\n",
    "print(\"\\nLinked list after rearranging:\")\n",
    "print_linked_list(head)"
   ]
  },
  {
   "cell_type": "code",
   "execution_count": null,
   "id": "4cf1104b-d4c8-4a36-a0c9-50afa41fb664",
   "metadata": {},
   "outputs": [],
   "source": []
  },
  {
   "cell_type": "markdown",
   "id": "fe7b825f-ca61-4bdf-a893-539590a86bba",
   "metadata": {},
   "source": [
    "### Problem 13: Given a non-negative number represented as a linked list, add one to it.\n",
    "### Input: 1 -> 2 -> 3 (represents the number 123)\n",
    "### Output: 1 -> 2 -> 4 (represents the number 124)"
   ]
  },
  {
   "cell_type": "code",
   "execution_count": 27,
   "id": "7df45886-4579-4bc9-90c8-a0de4c36ce5d",
   "metadata": {},
   "outputs": [
    {
     "name": "stdout",
     "output_type": "stream",
     "text": [
      "Original linked list:\n",
      "1 -> 2 -> 3\n",
      "\n",
      "Linked list after adding one:\n",
      "1 -> 2 -> 4\n"
     ]
    }
   ],
   "source": [
    "class ListNode:\n",
    "    def __init__(self, value=0, next=None):\n",
    "        self.value = value\n",
    "        self.next = next\n",
    "\n",
    "def add_one(head):\n",
    "    # Reverse the linked list to perform addition from the least significant digit\n",
    "    reversed_head = reverse_linked_list(head)\n",
    "    current = reversed_head\n",
    "    carry = 1  # Start with a carry of 1 since we are adding one\n",
    "    \n",
    "    while current:\n",
    "        current_sum = current.value + carry\n",
    "        current.value = current_sum % 10  # Update node value with remainder\n",
    "        carry = current_sum // 10         # Update carry\n",
    "        if carry == 0:\n",
    "            break\n",
    "        if not current.next:\n",
    "            current.next = ListNode(carry)\n",
    "            break\n",
    "        current = current.next\n",
    " # Reverse the list back to its original order\n",
    "    return reverse_linked_list(reversed_head)\n",
    "\n",
    "def reverse_linked_list(head):\n",
    "    prev = None\n",
    "    current = head\n",
    "    while current:\n",
    "        next_node = current.next\n",
    "        current.next = prev\n",
    "        prev = current\n",
    "        current = next_node\n",
    "    return prev\n",
    "# Helper function to create a linked list from a list of values\n",
    "def create_linked_list(values):\n",
    "    head = ListNode(values[0])\n",
    "    current = head\n",
    "    for value in values[1:]:\n",
    "        current.next = ListNode(value)\n",
    "        current = current.next\n",
    "    return head\n",
    "\n",
    "# Helper function to print a linked list\n",
    "def print_linked_list(head):\n",
    "    current = head\n",
    "    while current:\n",
    "        print(current.value, end=\" -> \" if current.next else \"\\n\")\n",
    "        current = current.next\n",
    "\n",
    "values = [1, 2, 3]\n",
    "head = create_linked_list(values)\n",
    "print(\"Original linked list:\")\n",
    "print_linked_list(head)\n",
    "head = add_one(head)\n",
    "print(\"\\nLinked list after adding one:\")\n",
    "print_linked_list(head)"
   ]
  },
  {
   "cell_type": "code",
   "execution_count": null,
   "id": "765b4941-9a45-41cb-91ec-eb26244f6758",
   "metadata": {},
   "outputs": [],
   "source": []
  },
  {
   "cell_type": "markdown",
   "id": "2f6ecf5b-8549-407a-8ffa-29c43f4b6322",
   "metadata": {},
   "source": [
    "### Problem 14: Given a sorted array and a target value, return the index if the target is found. If not, return the\n",
    "### index where it would be inserted.\n",
    "### Input: nums = [1, 3, 5, 6], target = 5\n",
    "### Output: 2"
   ]
  },
  {
   "cell_type": "code",
   "execution_count": 16,
   "id": "9e1c2855-b79e-4e5b-b8e5-7ab5fcf86f62",
   "metadata": {},
   "outputs": [
    {
     "name": "stdout",
     "output_type": "stream",
     "text": [
      "Input: [1, 3, 5, 6] Target: 5\n",
      "Output: 2\n"
     ]
    }
   ],
   "source": [
    "def search_insert_position(nums, target):\n",
    "    left, right = 0, len(nums) - 1\n",
    "    \n",
    "    while left <= right:\n",
    "        mid = (left + right) // 2\n",
    "        \n",
    "        if nums[mid] == target:\n",
    "            return mid\n",
    "        elif nums[mid] < target:\n",
    "            left = mid + 1\n",
    "        else:\n",
    "            right = mid - 1\n",
    "    return left\n",
    "nums = [1, 3, 5, 6]\n",
    "target = 5\n",
    "print(\"Input:\", nums, \"Target:\", target)\n",
    "print(\"Output:\", search_insert_position(nums, target))"
   ]
  },
  {
   "cell_type": "code",
   "execution_count": null,
   "id": "49bc8708-73db-461f-bca4-1293ddb93bdc",
   "metadata": {},
   "outputs": [],
   "source": []
  },
  {
   "cell_type": "markdown",
   "id": "1abaf7e1-898f-42b6-a545-80ac490b4d6e",
   "metadata": {},
   "source": [
    "### Problem 15: Find the minimum element in a rotated sorted array.\n",
    "### Input: [4, 5, 6, 7, 0, 1, 2]\n",
    "### Output: 0"
   ]
  },
  {
   "cell_type": "code",
   "execution_count": 26,
   "id": "29059246-47b3-4b9d-a11c-3b98e7718fa3",
   "metadata": {},
   "outputs": [
    {
     "name": "stdout",
     "output_type": "stream",
     "text": [
      "Input: [4, 5, 6, 7, 0, 1, 2]\n",
      "Output: 0\n"
     ]
    }
   ],
   "source": [
    "def find_min_in_rotated_sorted_array(nums):\n",
    "    left, right = 0, len(nums) - 1\n",
    "    \n",
    "    while left < right:\n",
    "        mid = (left + right) // 2\n",
    "        if nums[mid] > nums[right]:\n",
    "            left = mid + 1\n",
    "        else:\n",
    "            right = mid\n",
    "    return nums[left]\n",
    "\n",
    "nums = [4, 5, 6, 7, 0, 1, 2]\n",
    "print(\"Input:\", nums)\n",
    "print(\"Output:\", find_min_in_rotated_sorted_array(nums))"
   ]
  },
  {
   "cell_type": "code",
   "execution_count": null,
   "id": "3e44e8b5-7f65-4ec4-ba64-7586144c3383",
   "metadata": {},
   "outputs": [],
   "source": []
  },
  {
   "cell_type": "markdown",
   "id": "b2dc0393-929e-4212-b6b8-42e1d19142cb",
   "metadata": {},
   "source": [
    "### Problem 16: Search for a target value in a rotated sorted array.\n",
    "### Input: nums = [4, 5, 6, 7, 0, 1, 2], target = 0\n",
    "### Output: 4"
   ]
  },
  {
   "cell_type": "code",
   "execution_count": 25,
   "id": "c84cbd87-2a6d-4b08-a949-d5f1d7658870",
   "metadata": {},
   "outputs": [
    {
     "name": "stdout",
     "output_type": "stream",
     "text": [
      "Input: [4, 5, 6, 7, 0, 1, 2] Target: 0\n",
      "Output: 4\n"
     ]
    }
   ],
   "source": [
    "def search_in_rotated_sorted_array(nums, target):\n",
    "    left, right = 0, len(nums) - 1\n",
    "    \n",
    "    while left <= right:\n",
    "        mid = (left + right) // 2\n",
    "        if nums[mid] == target:\n",
    "            return mid\n",
    "        if nums[left] <= nums[mid]:\n",
    "            if nums[left] <= target < nums[mid]:\n",
    "                right = mid - 1\n",
    "            else:\n",
    "                left = mid + 1\n",
    "        else:\n",
    "            if nums[mid] < target <= nums[right]:\n",
    "                left = mid + 1\n",
    "            else:\n",
    "                right = mid - 1\n",
    "    return -5\n",
    "\n",
    "nums = [4, 5, 6, 7, 0, 1, 2]\n",
    "target = 0\n",
    "print(\"Input:\", nums, \"Target:\", target)\n",
    "print(\"Output:\", search_in_rotated_sorted_array(nums, target))"
   ]
  },
  {
   "cell_type": "code",
   "execution_count": null,
   "id": "6142e3ca-537f-44b5-8d66-15da531c26e1",
   "metadata": {},
   "outputs": [],
   "source": []
  },
  {
   "cell_type": "markdown",
   "id": "ffbce1ed-e5aa-40b9-8f1b-17526128f021",
   "metadata": {},
   "source": [
    "### Problem 17: Find the peak element in an array. A peak element is greater than its neighbors.\n",
    "### Input: nums = [1, 2, 3, 1]\n",
    "### Output: 2 (index of peak element)"
   ]
  },
  {
   "cell_type": "code",
   "execution_count": 30,
   "id": "58344034-cd87-4758-a396-d0bd6b6b9a41",
   "metadata": {},
   "outputs": [
    {
     "name": "stdout",
     "output_type": "stream",
     "text": [
      "Input: [1, 2, 3, 1]\n",
      "Output: 2\n"
     ]
    }
   ],
   "source": [
    "def find_peak_element(nums):\n",
    "    left, right = 0, len(nums) - 1\n",
    "    \n",
    "    while left < right:\n",
    "        mid = (left + right) // 2\n",
    "        if nums[mid] > nums[mid + 1]:\n",
    "            right = mid\n",
    "        else:\n",
    "            left = mid + 1\n",
    "    return left\n",
    "\n",
    "nums = [1, 2, 3, 1]\n",
    "print(\"Input:\", nums)\n",
    "print(\"Output:\", find_peak_element(nums))"
   ]
  },
  {
   "cell_type": "code",
   "execution_count": null,
   "id": "0214175e-be0a-4a51-8c00-98a967b0e1e5",
   "metadata": {},
   "outputs": [],
   "source": []
  },
  {
   "cell_type": "markdown",
   "id": "50b656a0-775f-4866-82a2-0e2e4b5a77fb",
   "metadata": {},
   "source": [
    "### Problem 18: Given a m x n matrix where each row and column is sorted in ascending order, count the number of negative numbers.\n",
    "### Input: grid = [[4, 3, 2, -1], [3, 2, 1, -1], [1, 1, -1, -2], [-1, -1, -2, -3]]\n",
    "### Output: 8"
   ]
  },
  {
   "cell_type": "code",
   "execution_count": 32,
   "id": "65a40737-2d66-4589-8dd0-2ce19ffc5822",
   "metadata": {},
   "outputs": [
    {
     "name": "stdout",
     "output_type": "stream",
     "text": [
      "Input:\n",
      "[4, 3, 2, -1]\n",
      "[3, 2, 1, -1]\n",
      "[1, 1, -1, -2]\n",
      "[-1, -1, -2, -3]\n",
      "\n",
      "Output: 8\n"
     ]
    }
   ],
   "source": [
    "def count_negative_numbers(grid):\n",
    "    count = 0\n",
    "    rows, cols = len(grid), len(grid[0])\n",
    "    r, c = 0, cols - 1  # Start from the top-right corner\n",
    "    \n",
    "    while r < rows and c >= 0:\n",
    "        if grid[r][c] < 0:\n",
    "            count += (rows - r)  # All elements below grid[r][c] in this column are negative\n",
    "            c -= 1  # Move left to check for more negative numbers in this row\n",
    "        else:\n",
    "            r += 1  # Move down to the next row\n",
    "    return count\n",
    "\n",
    "grid = [\n",
    "    [4, 3, 2, -1],\n",
    "    [3, 2, 1, -1],\n",
    "    [1, 1, -1, -2],\n",
    "    [-1, -1, -2, -3]\n",
    "]\n",
    "\n",
    "print(\"Input:\")\n",
    "for row in grid:\n",
    "    print(row)\n",
    "print(\"\\nOutput:\", count_negative_numbers(grid))"
   ]
  },
  {
   "cell_type": "code",
   "execution_count": null,
   "id": "5c44bc39-25da-46cf-a2bd-dc098761a04d",
   "metadata": {},
   "outputs": [],
   "source": []
  },
  {
   "cell_type": "markdown",
   "id": "cd8ae739-447a-4e9a-9475-424c0d827827",
   "metadata": {},
   "source": [
    "### Problem 19: Given a 2D matrix sorted in ascending order in each row, and the first integer of each row is greater than the last integer of the previous row, determine if a target value is present in the matrix.\n",
    "### Input: matrix = [[1, 3, 5, 7], [10, 11, 16, 20], [23, 30, 34, 60]], target = 3\n",
    "### Output: True"
   ]
  },
  {
   "cell_type": "code",
   "execution_count": 34,
   "id": "9bc60f77-d523-4c8f-a6dc-39be8a409992",
   "metadata": {},
   "outputs": [
    {
     "name": "stdout",
     "output_type": "stream",
     "text": [
      "Input:\n",
      "[1, 3, 5, 7]\n",
      "[10, 11, 16, 20]\n",
      "[23, 30, 34, 60]\n",
      "\n",
      "Target: 3\n",
      "Output: True\n"
     ]
    }
   ],
   "source": [
    "def search_matrix(matrix, target):\n",
    "    if not matrix or not matrix[0]:\n",
    "        return False\n",
    "    \n",
    "    rows, cols = len(matrix), len(matrix[0])\n",
    "    left, right = 0, rows * cols - 1\n",
    "    \n",
    "    while left <= right:\n",
    "        mid = (left + right) // 2\n",
    "        mid_value = matrix[mid // cols][mid % cols]\n",
    "        \n",
    "        if mid_value == target:\n",
    "            return True\n",
    "        elif mid_value < target:\n",
    "            left = mid + 1\n",
    "        else:\n",
    "            right = mid - 1\n",
    "    return False\n",
    "\n",
    "matrix = [\n",
    "    [1, 3, 5, 7],\n",
    "    [10, 11, 16, 20],\n",
    "    [23, 30, 34, 60]\n",
    "]\n",
    "target = 3\n",
    "\n",
    "print(\"Input:\")\n",
    "for row in matrix:\n",
    "    print(row)\n",
    "print(\"\\nTarget:\", target)\n",
    "print(\"Output:\", search_matrix(matrix, target))"
   ]
  },
  {
   "cell_type": "code",
   "execution_count": null,
   "id": "8105913b-637d-46b4-a107-c5413a335d78",
   "metadata": {},
   "outputs": [],
   "source": []
  },
  {
   "cell_type": "markdown",
   "id": "dfa2de86-1ca9-46b0-9077-b7e27273e76b",
   "metadata": {},
   "source": [
    "### Problem 20: Find Median in Two Sorted Arrays\n",
    "### Problem: Given two sorted arrays, find the median of the combined sorted array.\n",
    "### Input: nums1 = [1, 3], nums2 = [2]\n",
    "### Output: 2.0"
   ]
  },
  {
   "cell_type": "code",
   "execution_count": 36,
   "id": "143873ca-93e2-4e6f-b51d-7eb00e5efd85",
   "metadata": {},
   "outputs": [
    {
     "name": "stdout",
     "output_type": "stream",
     "text": [
      "Input:\n",
      "nums1 = [1, 3]\n",
      "nums2 = [2]\n",
      "Median: 2\n"
     ]
    }
   ],
   "source": [
    "def find_median_sorted_arrays(nums1, nums2):\n",
    "    merged = []\n",
    "    i, j = 0, 0\n",
    "    \n",
    "    while i < len(nums1) and j < len(nums2):\n",
    "        if nums1[i] < nums2[j]:\n",
    "            merged.append(nums1[i])\n",
    "            i += 1\n",
    "        else:\n",
    "            merged.append(nums2[j])\n",
    "            j += 1\n",
    "# Add remaining elements from nums1 (if any)\n",
    "    while i < len(nums1):\n",
    "        merged.append(nums1[i])\n",
    "        i += 1\n",
    "    \n",
    "    # Add remaining elements from nums2 (if any)\n",
    "    while j < len(nums2):\n",
    "        merged.append(nums2[j])\n",
    "        j += 1\n",
    "    \n",
    "    n = len(merged)\n",
    "    if n % 2 == 0:\n",
    "        return (merged[n // 2 - 1] + merged[n // 2]) / 2\n",
    "    else:\n",
    "        return merged[n // 2]\n",
    "# Test the function\n",
    "nums1 = [1, 3]\n",
    "nums2 = [2]\n",
    "print(\"Input:\")\n",
    "print(\"nums1 =\", nums1)\n",
    "print(\"nums2 =\", nums2)\n",
    "print(\"Median:\", find_median_sorted_arrays(nums1, nums2))"
   ]
  },
  {
   "cell_type": "code",
   "execution_count": null,
   "id": "6fbfbeea-fdea-4588-adc5-611500f09f33",
   "metadata": {},
   "outputs": [],
   "source": []
  },
  {
   "cell_type": "markdown",
   "id": "cc1907d9-a0b5-45f6-8618-834532d0c2ec",
   "metadata": {},
   "source": [
    "### Problem 21: Given a sorted character array and a target letter, find the smallest letter in the array that is greater than the target.\n",
    "### Input: letters = ['c', 'f', 'j'], target = a\n",
    "### Output: 'c'"
   ]
  },
  {
   "cell_type": "code",
   "execution_count": 38,
   "id": "7ba7a4ca-88af-49a9-b33e-02b935fccc84",
   "metadata": {},
   "outputs": [
    {
     "name": "stdout",
     "output_type": "stream",
     "text": [
      "Input:\n",
      "letters = ['c', 'f', 'j']\n",
      "target = a\n",
      "Output: c\n"
     ]
    }
   ],
   "source": [
    "def next_greatest_letter(letters, target):\n",
    "    n = len(letters)\n",
    "    left, right = 0, n - 1\n",
    "    \n",
    "    while left <= right:\n",
    "        mid = (left + right) // 2\n",
    "        \n",
    "        if letters[mid] <= target:\n",
    "            left = mid + 1\n",
    "        else:\n",
    "            right = mid - 1\n",
    "    \n",
    "    return letters[left % n]  # Wrap around to the beginning if necessary\n",
    "\n",
    "# Example usage:\n",
    "letters = ['c', 'f', 'j']\n",
    "target = 'a'\n",
    "\n",
    "print(\"Input:\")\n",
    "print(\"letters =\", letters)\n",
    "print(\"target =\", target)\n",
    "print(\"Output:\", next_greatest_letter(letters, target))\n"
   ]
  },
  {
   "cell_type": "code",
   "execution_count": null,
   "id": "3f07f894-0448-4b1a-abd9-ab499802b73f",
   "metadata": {},
   "outputs": [],
   "source": []
  },
  {
   "cell_type": "markdown",
   "id": "6d572641-fe16-42bd-9ea4-fb47d55ba724",
   "metadata": {},
   "source": [
    "### Problem 22: Given an array with n objects colored red, white, or blue, sort them in-place so that objects of the same color are adjacent, with the colors in the order red, white, and blue.\n",
    "### Input: nums = [2, 0, 2, 1, 1, 0]\n",
    "### Output: [0, 0, 1, 1, 2, 2]"
   ]
  },
  {
   "cell_type": "code",
   "execution_count": 40,
   "id": "3bce5a5b-dc4a-4e55-b004-bf1e2df68113",
   "metadata": {},
   "outputs": [
    {
     "name": "stdout",
     "output_type": "stream",
     "text": [
      "[0, 0, 1, 1, 2, 2]\n"
     ]
    }
   ],
   "source": [
    "def sortColors(nums):\n",
    "    # Initialize pointers for the boundaries of each color\n",
    "    red, white, blue = 0, 0, len(nums) - 1\n",
    "    \n",
    "    # Iterate through the array\n",
    "    while white <= blue:\n",
    "        if nums[white] == 0:\n",
    "            # If the current element is 0, swap it with the element at the red pointer\n",
    "            nums[red], nums[white] = nums[white], nums[red]\n",
    "            # Move both red and white pointers to the right\n",
    "            red += 1\n",
    "            white += 1\n",
    "        elif nums[white] == 1:\n",
    "            # If the current element is 1, just move the white pointer to the right\n",
    "            white += 1\n",
    "        else:\n",
    "            # If the current element is 2, swap it with the element at the blue pointer\n",
    "            nums[white], nums[blue] = nums[blue], nums[white]\n",
    "            # Move the blue pointer to the left\n",
    "            blue -= 1\n",
    "nums = [2, 0, 2, 1, 1, 0]\n",
    "sortColors(nums)\n",
    "print(nums) "
   ]
  },
  {
   "cell_type": "code",
   "execution_count": null,
   "id": "6d106a00-2547-4813-9efa-b63b239055a3",
   "metadata": {},
   "outputs": [],
   "source": []
  },
  {
   "cell_type": "markdown",
   "id": "97d18544-52bf-49dd-b081-56d52d64e1b3",
   "metadata": {},
   "source": [
    "### Problem 23: Find the kth largest element in an unsorted array.\n",
    "### Input: nums = [3, 2, 1, 5, 6, 4], k = 2\n",
    "### output: 5"
   ]
  },
  {
   "cell_type": "code",
   "execution_count": 43,
   "id": "de71a67f-4e54-40f8-827d-2619e84671c3",
   "metadata": {},
   "outputs": [
    {
     "name": "stdout",
     "output_type": "stream",
     "text": [
      "5\n"
     ]
    }
   ],
   "source": [
    "# first we sort the array in descending order\n",
    "def bubblesort(arr):\n",
    "    for i in range(len(arr)-1, 0, -1):\n",
    "        for j in range(i):\n",
    "            if (arr[j] < arr[j+1]):\n",
    "                arr[j],arr[j+1] = arr[j+1],arr[j]\n",
    "    return arr\n",
    "\n",
    "def find_k_largest(arr,k):\n",
    "    bubblesort(arr)\n",
    "    return arr[k-1]\n",
    "print(find_k_largest([3, 2, 1, 5, 6, 4], k = 2))"
   ]
  },
  {
   "cell_type": "code",
   "execution_count": null,
   "id": "b28eda02-81a0-46d7-9356-18040ef999b2",
   "metadata": {},
   "outputs": [],
   "source": []
  },
  {
   "cell_type": "markdown",
   "id": "d27a8287-dc3a-4e6e-aa74-fad6c31e8339",
   "metadata": {},
   "source": [
    "### Problem 24: Given an unsorted array, reorder it in-place such that nums[0] <= nums[1] >= nums[2] <= nums[3]...\n",
    "### Input: nums = [3, 5, 2, 1, 6, 4]\n",
    "### Output: [3, 5, 1, 6, 2, 4]"
   ]
  },
  {
   "cell_type": "code",
   "execution_count": 44,
   "id": "e60f371f-b0b0-4897-9fe9-739aaa284de2",
   "metadata": {},
   "outputs": [
    {
     "name": "stdout",
     "output_type": "stream",
     "text": [
      "[3, 5, 1, 6, 2, 4]\n"
     ]
    }
   ],
   "source": [
    "def altSort(nums):\n",
    "\n",
    "    # Iterate through the array starting from the second element\n",
    "    for i in range(1, len(nums)):\n",
    "        if (i % 2 == 0 and nums[i] > nums[i - 1]) or (i % 2 != 0 and nums[i] < nums[i - 1]):\n",
    "            nums[i], nums[i - 1] = nums[i - 1], nums[i]\n",
    "\n",
    "# Test the function with the given input\n",
    "nums = [3, 5, 2, 1, 6, 4]\n",
    "altSort(nums)\n",
    "print(nums)  "
   ]
  },
  {
   "cell_type": "code",
   "execution_count": null,
   "id": "192f3380-f6fb-4ec3-8174-9f72799be2fe",
   "metadata": {},
   "outputs": [],
   "source": []
  },
  {
   "cell_type": "markdown",
   "id": "662e00dd-d9ce-4a67-a793-594c62dbdffd",
   "metadata": {},
   "source": [
    "### Problem 25: Given an array of integers, calculate the sum of all its elements.\n",
    "### Input: [1, 2, 3, 4, 5]\n",
    "### Output: 15"
   ]
  },
  {
   "cell_type": "code",
   "execution_count": 46,
   "id": "5a91fa9e-2b92-4758-945d-ad07c939e4a2",
   "metadata": {},
   "outputs": [
    {
     "name": "stdout",
     "output_type": "stream",
     "text": [
      "Input: [1, 2, 3, 4, 5]\n",
      "Output: 15\n"
     ]
    }
   ],
   "source": [
    "def sum_of_array(nums):\n",
    "    total_sum = 0\n",
    "    for num in nums:\n",
    "        total_sum += num\n",
    "    return total_sum\n",
    "\n",
    "nums = [1, 2, 3, 4, 5]\n",
    "print(\"Input:\", nums)\n",
    "print(\"Output:\", sum_of_array(nums))"
   ]
  },
  {
   "cell_type": "code",
   "execution_count": null,
   "id": "96e818a3-5dae-446c-935f-ef91229474c1",
   "metadata": {},
   "outputs": [],
   "source": []
  },
  {
   "cell_type": "markdown",
   "id": "dce63f6e-b951-49b6-b09c-d1f55d1483a5",
   "metadata": {},
   "source": [
    "### Problem 26: Find the maximum element in an array of integers.\n",
    "### Input: [3, 7, 2, 9, 4, 1]\n",
    "### Output: 9"
   ]
  },
  {
   "cell_type": "code",
   "execution_count": 50,
   "id": "4be11955-ff45-4220-bca5-ba4bd26575a2",
   "metadata": {},
   "outputs": [
    {
     "name": "stdout",
     "output_type": "stream",
     "text": [
      "Input: [3, 7, 2, 9, 4, 1]\n",
      "Output: 9\n"
     ]
    }
   ],
   "source": [
    "def find_max_element(nums):\n",
    "    if not nums:\n",
    "        return None\n",
    "    max_element = nums[0]\n",
    "    for num in nums:\n",
    "        if num > max_element:\n",
    "            max_element = num\n",
    "    return max_element\n",
    "\n",
    "nums = [3, 7, 2, 9, 4, 1]\n",
    "print(\"Input:\", nums)\n",
    "print(\"Output:\", find_max_element(nums))"
   ]
  },
  {
   "cell_type": "code",
   "execution_count": null,
   "id": "0b19338f-754a-41dd-8dd9-860f53514f0a",
   "metadata": {},
   "outputs": [],
   "source": []
  },
  {
   "cell_type": "markdown",
   "id": "a8740304-86c0-4762-92f3-922a493c12aa",
   "metadata": {},
   "source": [
    "### Problem 27: Implement linear search to find the index of a target element in an array.\n",
    "### Input: [5, 3, 8, 2, 7, 4], target = 8\n",
    "### Output: 2"
   ]
  },
  {
   "cell_type": "code",
   "execution_count": 52,
   "id": "b9103286-b59e-4fce-9a58-ead7c47efd60",
   "metadata": {},
   "outputs": [
    {
     "name": "stdout",
     "output_type": "stream",
     "text": [
      "Input:\n",
      "nums = [5, 3, 8, 2, 7, 4]\n",
      "target = 8\n",
      "Output: 2\n"
     ]
    }
   ],
   "source": [
    "def linear_search(nums, target):\n",
    "    for index in range(len(nums)):\n",
    "        if nums[index] == target:\n",
    "            return index\n",
    "    return -1\n",
    "\n",
    "# Example usage:\n",
    "nums = [5, 3, 8, 2, 7, 4]\n",
    "target = 8\n",
    "print(\"Input:\")\n",
    "print(\"nums =\", nums)\n",
    "print(\"target =\", target)\n",
    "print(\"Output:\", linear_search(nums, target))\n"
   ]
  },
  {
   "cell_type": "code",
   "execution_count": null,
   "id": "c176cd87-c6ea-4627-ad54-08439e4c25dc",
   "metadata": {},
   "outputs": [],
   "source": []
  },
  {
   "cell_type": "markdown",
   "id": "7d654c80-5dda-40b6-b372-8751ee553b19",
   "metadata": {},
   "source": [
    "### Problem 28 Calculate the factorial of a given number.\n",
    "### Input: 5\n",
    "### Output: 120 (as 5! = 5 * 4 * 3 * 2 * 1 = 120)"
   ]
  },
  {
   "cell_type": "code",
   "execution_count": 53,
   "id": "1824b4cd-bd94-4a5c-9a8e-9aa9ae5275e9",
   "metadata": {},
   "outputs": [
    {
     "name": "stdout",
     "output_type": "stream",
     "text": [
      "Input: 5\n",
      "Output: 120\n"
     ]
    }
   ],
   "source": [
    "def factorial(n):\n",
    "    if n == 0 or n == 1:\n",
    "        return 1\n",
    "    \n",
    "    factorial = 1\n",
    "    for i in range(2, n + 1):\n",
    "        factorial *= i\n",
    "    \n",
    "    return factorial\n",
    "\n",
    "# Example usage:\n",
    "input_num = 5\n",
    "print(\"Input:\", input_num)\n",
    "print(\"Output:\", factorial(input_num))\n"
   ]
  },
  {
   "cell_type": "code",
   "execution_count": null,
   "id": "52102ad7-ac8b-4c2b-a8c6-168726ef3228",
   "metadata": {},
   "outputs": [],
   "source": []
  },
  {
   "cell_type": "markdown",
   "id": "057431a0-1b7e-4699-acb1-c1896e8b46e4",
   "metadata": {},
   "source": [
    "### Problem 29: Check if a given number is a prime number.\n",
    "### Input: 7\n",
    "### Output: True"
   ]
  },
  {
   "cell_type": "code",
   "execution_count": 54,
   "id": "1bdf0a5b-f54d-40eb-adf6-e0b31504151a",
   "metadata": {},
   "outputs": [
    {
     "name": "stdout",
     "output_type": "stream",
     "text": [
      "True\n"
     ]
    }
   ],
   "source": [
    "def isprime(num):\n",
    "    if num < 2:\n",
    "        return False\n",
    "    if num == 2:\n",
    "        return True\n",
    "    if num % 2 == 0:\n",
    "        return False\n",
    "    for i in range(3, int(num**0.5) + 1, 2):\n",
    "        if num % i == 0:\n",
    "            return False\n",
    "    return True\n",
    "print(isprime(7))"
   ]
  },
  {
   "cell_type": "code",
   "execution_count": null,
   "id": "182010fc-7c64-4b6c-a7a8-204faaf09889",
   "metadata": {},
   "outputs": [],
   "source": []
  },
  {
   "cell_type": "markdown",
   "id": "bb39614b-b163-47be-81b5-f1b281ddb773",
   "metadata": {},
   "source": [
    "### Problem 30: Generate the Fibonacci series up to a given number n.\n",
    "### Input: 8\n",
    "### Output: [0, 1, 1, 2, 3, 5, 8, 13]"
   ]
  },
  {
   "cell_type": "code",
   "execution_count": 57,
   "id": "7eb04edf-ca03-4938-bcd1-fc0e546eccbf",
   "metadata": {},
   "outputs": [
    {
     "name": "stdout",
     "output_type": "stream",
     "text": [
      "[0, 1, 1, 2, 3, 5, 8, 13]\n"
     ]
    }
   ],
   "source": [
    "def fibonacci(n):\n",
    "    fib_series = [0, 1] \n",
    "    for i in range(2, n):\n",
    "        fib_series.append(fib_series[-1] + fib_series[-2]) \n",
    "    return fib_series\n",
    "\n",
    "# Test the function with the given input\n",
    "print(fibonacci(8))"
   ]
  },
  {
   "cell_type": "code",
   "execution_count": null,
   "id": "e4197296-f9b6-4024-8b4d-86f6835e586e",
   "metadata": {},
   "outputs": [],
   "source": []
  },
  {
   "cell_type": "markdown",
   "id": "4633e00b-7e18-40c3-9b58-0e5ea65591ec",
   "metadata": {},
   "source": [
    "### Problem 31: Calculate the power of a number using recursion.\n",
    "### Input: base = 3, exponent = 4\n",
    "### Output: 81 (as 3^4 = 3 * 3 * 3 * 3 = 81)"
   ]
  },
  {
   "cell_type": "code",
   "execution_count": 58,
   "id": "475051c5-b52d-41a9-ae61-d946be1cc020",
   "metadata": {},
   "outputs": [
    {
     "name": "stdout",
     "output_type": "stream",
     "text": [
      "81\n"
     ]
    }
   ],
   "source": [
    "def power(base,exponent):\n",
    "    if exponent == 0:\n",
    "        return 1\n",
    "    elif exponent == 1:\n",
    "        return base\n",
    "    else:\n",
    "        return base * power(base,exponent-1)\n",
    "    \n",
    "print(power(3,4))"
   ]
  },
  {
   "cell_type": "code",
   "execution_count": null,
   "id": "bd5e5c5d-7561-4534-b5a7-24308eb63dac",
   "metadata": {},
   "outputs": [],
   "source": []
  },
  {
   "cell_type": "markdown",
   "id": "c6c8ce87-1f39-4c85-ad92-2fa2b85f9880",
   "metadata": {},
   "source": [
    "### Problem 32: Reverse a given string.\n",
    "### Input: \"hello\"\n",
    "### Output: \"olleh\""
   ]
  },
  {
   "cell_type": "code",
   "execution_count": 59,
   "id": "a140b487-103a-46fe-a351-cee6f72792f0",
   "metadata": {},
   "outputs": [
    {
     "name": "stdout",
     "output_type": "stream",
     "text": [
      "Reversed string: olleh\n"
     ]
    }
   ],
   "source": [
    "def rev_str(string):\n",
    "    rev = \"\"\n",
    "    for char in string:\n",
    "        rev = char + rev\n",
    "    return rev\n",
    "\n",
    "print(\"Reversed string:\",rev_str(\"hello\"))"
   ]
  },
  {
   "cell_type": "code",
   "execution_count": null,
   "id": "201dbd52-e361-4834-9fb0-9810ede0d28e",
   "metadata": {},
   "outputs": [],
   "source": []
  },
  {
   "cell_type": "code",
   "execution_count": null,
   "id": "833dd3d4-1572-43e4-844e-fe92ae93a0ac",
   "metadata": {},
   "outputs": [],
   "source": []
  }
 ],
 "metadata": {
  "kernelspec": {
   "display_name": "Python 3 (ipykernel)",
   "language": "python",
   "name": "python3"
  },
  "language_info": {
   "codemirror_mode": {
    "name": "ipython",
    "version": 3
   },
   "file_extension": ".py",
   "mimetype": "text/x-python",
   "name": "python",
   "nbconvert_exporter": "python",
   "pygments_lexer": "ipython3",
   "version": "3.10.8"
  }
 },
 "nbformat": 4,
 "nbformat_minor": 5
}
